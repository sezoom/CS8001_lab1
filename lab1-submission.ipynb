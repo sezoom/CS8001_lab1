{
 "cells": [
  {
   "cell_type": "markdown",
   "id": "6d10cff6",
   "metadata": {},
   "source": [
    "# **Exercise: Basics of Python and Numpy**"
   ]
  },
  {
   "cell_type": "markdown",
   "id": "337ef4b9",
   "metadata": {},
   "source": [
    "1. Import numpy and print the numpy version. (Hint: use ```__version___``` attribute to check package version.)"
   ]
  },
  {
   "cell_type": "code",
   "execution_count": 1,
   "id": "453728b7",
   "metadata": {},
   "outputs": [
    {
     "data": {
      "text/plain": [
       "'2.3.2'"
      ]
     },
     "execution_count": 1,
     "metadata": {},
     "output_type": "execute_result"
    }
   ],
   "source": [
    "import numpy as np\n",
    "np.__version__"
   ]
  },
  {
   "cell_type": "markdown",
   "id": "d8a080c7",
   "metadata": {},
   "source": [
    "2. Create a 4 x 5 matrix filled with random values. Name it as ```x```."
   ]
  },
  {
   "cell_type": "code",
   "execution_count": null,
   "id": "1bd0c3ca",
   "metadata": {},
   "outputs": [
    {
     "data": {
      "text/plain": [
       "array([[0.20581483, 0.17914999, 0.37818263, 0.21586657, 0.3069738 ],\n",
       "       [0.43503374, 0.40258056, 0.72131124, 0.79556406, 0.23543722],\n",
       "       [0.94522351, 0.918648  , 0.92882613, 0.07689917, 0.34475966],\n",
       "       [0.97822273, 0.96910789, 0.22894919, 0.55226863, 0.72126622]])"
      ]
     },
     "execution_count": 3,
     "metadata": {},
     "output_type": "execute_result"
    }
   ],
   "source": [
    "x= np.random.random((4,5)) \n",
    "x"
   ]
  },
  {
   "cell_type": "markdown",
   "id": "6341b099",
   "metadata": {},
   "source": [
    "3. Create a 3 x 3 matrix filled with [[1, 2, 3], [4, 5, 6], [7, 8, 9]]. Name it as ```y```."
   ]
  },
  {
   "cell_type": "code",
   "execution_count": 89,
   "id": "c9f48e33",
   "metadata": {},
   "outputs": [
    {
     "data": {
      "text/plain": [
       "array([[1, 2, 3],\n",
       "       [4, 5, 6],\n",
       "       [7, 8, 9]])"
      ]
     },
     "execution_count": 89,
     "metadata": {},
     "output_type": "execute_result"
    }
   ],
   "source": [
    "y = np.array([[1, 2, 3], [4, 5, 6], [7, 8, 9]])\n",
    "y"
   ]
  },
  {
   "cell_type": "markdown",
   "id": "48dfad75",
   "metadata": {},
   "source": [
    "4. Swap the first two rows of ```x```."
   ]
  },
  {
   "cell_type": "code",
   "execution_count": 98,
   "id": "d48b2650",
   "metadata": {},
   "outputs": [
    {
     "data": {
      "text/plain": [
       "array([[4, 5, 6],\n",
       "       [1, 2, 3],\n",
       "       [7, 8, 9]])"
      ]
     },
     "execution_count": 98,
     "metadata": {},
     "output_type": "execute_result"
    }
   ],
   "source": [
    "x[[0,1],:]=x[[1,0],:]\n",
    "x"
   ]
  },
  {
   "cell_type": "markdown",
   "id": "51688b02",
   "metadata": {},
   "source": [
    "5. Create a random numpy array with shape (100, 2) and name it ```z```. Each row indicates the coordinates of a point. Compute point by point distances."
   ]
  },
  {
   "cell_type": "code",
   "execution_count": null,
   "id": "6b85c6c9",
   "metadata": {},
   "outputs": [
    {
     "name": "stdout",
     "output_type": "stream",
     "text": [
      "[[0.         0.48139795 0.38832001 ... 0.96046628 0.6987326  0.18680305]\n",
      " [0.48139795 0.         0.10106663 ... 0.48352852 0.29707494 0.43041027]\n",
      " [0.38832001 0.10106663 0.         ... 0.57215537 0.33849618 0.32945063]\n",
      " ...\n",
      " [0.96046628 0.48352852 0.57215537 ... 0.         0.33432798 0.87462356]\n",
      " [0.6987326  0.29707494 0.33849618 ... 0.33432798 0.         0.57632537]\n",
      " [0.18680305 0.43041027 0.32945063 ... 0.87462356 0.57632537 0.        ]]\n",
      "[[ True  True  True ...  True  True  True]\n",
      " [ True  True  True ...  True  True  True]\n",
      " [ True  True  True ...  True  True  True]\n",
      " ...\n",
      " [ True  True  True ...  True  True  True]\n",
      " [ True  True  True ...  True  True  True]\n",
      " [ True  True  True ...  True  True  True]]\n"
     ]
    }
   ],
   "source": [
    "z= np.random.random([100,2])\n",
    "\n",
    "## my way\n",
    "distance1 = np.zeros((len(z), len(z)))\n",
    "for i in range(len(z)):\n",
    "    for j in range(len(z)):\n",
    "        distance1[i, j] = np.linalg.norm(z[i]- z[j])\n",
    "\n",
    "\n",
    "# ## copilot way\n",
    "diff2 = z[:, None, :] - z[None, :, :]   \n",
    "distance2 = np.linalg.norm(diff2, axis=-1)      \n",
    "\n",
    "print(distance1)\n",
    "\n",
    "print(distance1==distance2)\n"
   ]
  },
  {
   "cell_type": "markdown",
   "id": "f650d9a1",
   "metadata": {},
   "source": [
    "6. Subtract the mean of each row of ```y```."
   ]
  },
  {
   "cell_type": "code",
   "execution_count": 100,
   "id": "6cd7909c",
   "metadata": {},
   "outputs": [
    {
     "name": "stdout",
     "output_type": "stream",
     "text": [
      "[[-1.  0.  1.]\n",
      " [-1.  0.  1.]\n",
      " [-1.  0.  1.]]\n"
     ]
    }
   ],
   "source": [
    "ysm = y - y.mean(axis=1, keepdims=True)\n",
    "print(ysm)"
   ]
  },
  {
   "cell_type": "markdown",
   "id": "d9d6942d",
   "metadata": {},
   "source": [
    "7. Add a vector [1, 0, 1] to each row of ```y``` using broadcasting and name the resulting numpy array as ```yy```."
   ]
  },
  {
   "cell_type": "code",
   "execution_count": 101,
   "id": "900a59eb",
   "metadata": {},
   "outputs": [
    {
     "name": "stdout",
     "output_type": "stream",
     "text": [
      "[[ 2  2  4]\n",
      " [ 5  5  7]\n",
      " [ 8  8 10]]\n"
     ]
    }
   ],
   "source": [
    "v = np.array([1, 0, 1])\n",
    "yy= y + v \n",
    "\n",
    "print(yy)\n"
   ]
  },
  {
   "cell_type": "markdown",
   "id": "e10a4e69",
   "metadata": {},
   "source": [
    "8. For each row in ```yy```, extract the value that are not equal to the other two values. Organize these values as a numpy array."
   ]
  },
  {
   "cell_type": "code",
   "execution_count": 114,
   "id": "d2bc9d10",
   "metadata": {},
   "outputs": [
    {
     "data": {
      "text/plain": [
       "array([ 4,  7, 10])"
      ]
     },
     "execution_count": 114,
     "metadata": {},
     "output_type": "execute_result"
    }
   ],
   "source": [
    "eq1= yy[:, 0] == yy[:, 1]\n",
    "eq2 = yy[:, 0] == yy[:, 2]\n",
    "\n",
    "idx = np.where(eq1, 2, np.where(eq2, 1, 0))\n",
    "\n",
    "notEq = yy[np.arange(yy.shape[0]), idx]\n",
    "notEq"
   ]
  }
 ],
 "metadata": {
  "kernelspec": {
   "display_name": ".venv",
   "language": "python",
   "name": "python3"
  },
  "language_info": {
   "codemirror_mode": {
    "name": "ipython",
    "version": 3
   },
   "file_extension": ".py",
   "mimetype": "text/x-python",
   "name": "python",
   "nbconvert_exporter": "python",
   "pygments_lexer": "ipython3",
   "version": "3.13.5"
  }
 },
 "nbformat": 4,
 "nbformat_minor": 5
}
